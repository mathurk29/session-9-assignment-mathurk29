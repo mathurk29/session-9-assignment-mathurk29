{
 "metadata": {
  "language_info": {
   "codemirror_mode": {
    "name": "ipython",
    "version": 3
   },
   "file_extension": ".py",
   "mimetype": "text/x-python",
   "name": "python",
   "nbconvert_exporter": "python",
   "pygments_lexer": "ipython3",
   "version": "3.7.9"
  },
  "orig_nbformat": 4,
  "kernelspec": {
   "name": "python3",
   "display_name": "Python 3.7.9 64-bit"
  },
  "interpreter": {
   "hash": "be04d7a754b710caa2304f8401cfaaef8a6f4cefb6d4b30de52dd57a8a2f8a72"
  }
 },
 "nbformat": 4,
 "nbformat_minor": 2,
 "cells": [
  {
   "cell_type": "code",
   "execution_count": 1,
   "metadata": {},
   "outputs": [],
   "source": [
    "import session9\n",
    "from session9 import random_profiles\n",
    "from session9 import wrapper_3"
   ]
  },
  {
   "source": [
    "# 1"
   ],
   "cell_type": "markdown",
   "metadata": {}
  },
  {
   "cell_type": "code",
   "execution_count": 2,
   "metadata": {},
   "outputs": [
    {
     "output_type": "stream",
     "name": "stdout",
     "text": [
      "result(time_taken=0.003178600001774612, largest_blood_type='AB+', mean_current_location=(Decimal('1.3724511205'), Decimal('2.872746477')), oldest_person_age=115, average_age=55.0)\n"
     ]
    },
    {
     "output_type": "execute_result",
     "data": {
      "text/plain": [
       "0.003178600001774612"
      ]
     },
     "metadata": {},
     "execution_count": 2
    }
   ],
   "source": [
    "f1 = session9.profile_with_tuples(random_profiles)\n",
    "print(f1)\n",
    "tuples_time = f1.time_taken\n",
    "tuples_time"
   ]
  },
  {
   "source": [
    "# 2"
   ],
   "cell_type": "markdown",
   "metadata": {}
  },
  {
   "cell_type": "code",
   "execution_count": 3,
   "metadata": {},
   "outputs": [
    {
     "output_type": "stream",
     "name": "stdout",
     "text": [
      "{'time_taken': 0.0022543999992876707, 'largest_blood_type': 'AB+', 'mean_current_location': (Decimal('1.3724511205'), Decimal('2.872746477')), 'oldest_person_age': 42267, 'aveage_age': 55.0}\n"
     ]
    },
    {
     "output_type": "execute_result",
     "data": {
      "text/plain": [
       "0.0022543999992876707"
      ]
     },
     "metadata": {},
     "execution_count": 3
    }
   ],
   "source": [
    "f2 = session9.profile_without_tuples(random_profiles)\n",
    "print(f2)\n",
    "dict_time =f2['time_taken']\n",
    "dict_time"
   ]
  },
  {
   "cell_type": "code",
   "execution_count": 4,
   "metadata": {},
   "outputs": [
    {
     "output_type": "execute_result",
     "data": {
      "text/plain": [
       "False"
      ]
     },
     "metadata": {},
     "execution_count": 4
    }
   ],
   "source": [
    "tuples_time < dict_time"
   ]
  },
  {
   "source": [
    "# 3"
   ],
   "cell_type": "markdown",
   "metadata": {}
  },
  {
   "cell_type": "code",
   "execution_count": 5,
   "metadata": {
    "tags": []
   },
   "outputs": [
    {
     "output_type": "stream",
     "name": "stdout",
     "text": [
      "Stock(name='Powers and Sons', symbol='Power', open=10573, high=10928.781333500428, close=9226.24335331217)\nStock(name='Brown LLC', symbol='Brown', open=10932, high=15130.69741041116, close=13487.342563837152)\nStock(name='Nelson, Green and Humphrey', symbol='Nelso', open=10570, high=11300.803705833241, close=8868.880688968542)\nStock(name='White-Guerrero', symbol='White', open=10732, high=14135.794613187316, close=13316.17817292541)\nStock(name='Stewart PLC', symbol='Stewa', open=10476, high=13988.531780308262, close=9339.765731137426)\nStock(name='Maldonado Ltd', symbol='Maldo', open=10532, high=12704.06673084534, close=11028.408025425542)\nStock(name='White PLC', symbol='White', open=10707, high=14458.274827042635, close=14032.224187865093)\nStock(name='Richards-Murillo', symbol='Richa', open=10145, high=13083.605541846688, close=10272.579331277524)\nStock(name='Tran-Patterson', symbol='Tran-', open=10443, high=11855.326793101443, close=10751.561450609832)\nStock(name='Davis and Sons', symbol='Davis', open=10184, high=14307.840118802173, close=8458.146206176976)\nStock(name='Black-Davis', symbol='Black', open=10826, high=13265.803774426988, close=8919.000473249831)\nStock(name='Stephens-Johnson', symbol='Steph', open=10885, high=15730.79966838275, close=15319.093620931118)\nStock(name='Hernandez-Larson', symbol='Herna', open=10663, high=15755.573533457313, close=11168.768597933049)\nStock(name='Yu-Lloyd', symbol='Yu-Ll', open=10885, high=12954.278401080022, close=9418.574015329043)\nStock(name='Baker, Cardenas and Yu', symbol='Baker', open=10003, high=14687.080446837364, close=12311.279680343327)\nStock(name='Smith-Nguyen', symbol='Smith', open=10705, high=13274.800240848663, close=11619.943381128893)\nStock(name='Gutierrez Inc', symbol='Gutie', open=10167, high=15183.525992360983, close=10735.26215373615)\nStock(name='Vance, Hopkins and Walker', symbol='Vance', open=10702, high=15791.03217326225, close=10140.006619486614)\nStock(name='Murphy, Burgess and Hendricks', symbol='Murph', open=10142, high=14615.698953841806, close=10814.984456653634)\nStock(name='Arnold Inc', symbol='Arnol', open=10367, high=13115.802903318947, close=12314.18676904576)\nStock(name='Davis-Bradford', symbol='Davis', open=10267, high=11236.02920518855, close=8536.87531381588)\nStock(name='Martinez, Allen and Allen', symbol='Marti', open=10079, high=13497.285294424084, close=13069.699133597544)\nStock(name='Stevens-Goodwin', symbol='Steve', open=10726, high=14564.560399083792, close=11208.648628411545)\nStock(name='King LLC', symbol='King ', open=10594, high=14683.49958925716, close=9947.72472515615)\nStock(name='Steele Ltd', symbol='Steel', open=10867, high=11756.25517725949, close=9930.894588851737)\nStock(name='Newman PLC', symbol='Newma', open=10418, high=14616.24668411014, close=10617.181055473055)\nStock(name='Edwards, Morton and Aguirre', symbol='Edwar', open=10218, high=12658.407011037432, close=8943.302428389421)\nStock(name='Strickland Group', symbol='Stric', open=10044, high=14877.685461915598, close=10046.423779117536)\nStock(name='Maldonado-Anderson', symbol='Maldo', open=10817, high=12775.613057703074, close=10068.361067457885)\nStock(name='Haynes-Simpson', symbol='Hayne', open=10987, high=15087.079813796398, close=13113.891696836583)\nStock(name='Cox Ltd', symbol='Cox L', open=10885, high=13489.007680661958, close=9367.36655561674)\nStock(name='Barrett, Floyd and Martinez', symbol='Barre', open=10726, high=14224.217701102501, close=10942.119931412151)\nStock(name='Rivera LLC', symbol='River', open=10473, high=11603.02738753063, close=9563.883803945913)\nStock(name='Mills-Gilbert', symbol='Mills', open=10864, high=11573.973435666472, close=11399.381237838934)\nStock(name='Williams-Armstrong', symbol='Willi', open=10200, high=10394.587149209816, close=9569.017934378944)\nStock(name='Massey and Sons', symbol='Masse', open=10968, high=13744.907835377244, close=13630.51055279505)\nStock(name='Alvarez, Reed and Guerrero', symbol='Alvar', open=10218, high=13177.355699352003, close=11230.474967788143)\nStock(name='Roberson-Garcia', symbol='Rober', open=10911, high=11008.499602457501, close=10626.867132634492)\nStock(name='Mack, Lynch and Wright', symbol='Mack,', open=10496, high=11826.814368618581, close=11186.580210522148)\nStock(name='Miles, Payne and Kim', symbol='Miles', open=10961, high=13278.946731758486, close=11467.265549759275)\nStock(name='Cardenas, Figueroa and Bryant', symbol='Carde', open=10261, high=11371.115191315159, close=8860.571602699187)\nStock(name='Chavez, Gallagher and Ho', symbol='Chave', open=10635, high=10983.955693934324, close=9874.824117847087)\nStock(name='Bell-Abbott', symbol='Bell-', open=10617, high=14765.335965713533, close=13181.920609989958)\nStock(name='Sheppard-Harris', symbol='Shepp', open=10362, high=13424.680239107929, close=13224.551503461615)\nStock(name='Sanchez, Crawford and Ayala', symbol='Sanch', open=10566, high=13412.45166249609, close=9080.726504331076)\nStock(name='Clements and Sons', symbol='Cleme', open=10002, high=10131.003173027197, close=8942.621949889472)\nStock(name='Carter-Pearson', symbol='Carte', open=10177, high=10679.225053573622, close=9148.738339062002)\nStock(name='Mejia, Torres and Watson', symbol='Mejia', open=10283, high=11168.13585731792, close=8348.594820623654)\nStock(name='Rojas-Boyer', symbol='Rojas', open=10509, high=14777.050767744215, close=13072.290670836905)\nStock(name='Kim-Jefferson', symbol='Kim-J', open=10357, high=11711.884909530605, close=8356.907583586482)\nStock(name='Mitchell, Riggs and Shepherd', symbol='Mitch', open=10396, high=12500.486083818163, close=11477.119987328793)\nStock(name='Brooks Ltd', symbol='Brook', open=10363, high=13342.381389587026, close=10213.997764687485)\nStock(name='Medina-Hubbard', symbol='Medin', open=10820, high=13516.725166896851, close=12773.795014286396)\nStock(name='Morris LLC', symbol='Morri', open=10950, high=12169.08733208885, close=11697.57956091838)\nStock(name='Jefferson, Carter and Guzman', symbol='Jeffe', open=10286, high=12663.185923374707, close=12591.671713603333)\nStock(name='Valdez-Thomas', symbol='Valde', open=10528, high=15006.57753126118, close=9058.731465494095)\nStock(name='Anthony, Day and Davis', symbol='Antho', open=10589, high=15424.510428773092, close=8685.623137445136)\nStock(name='Holland, Mccall and Cross', symbol='Holla', open=10278, high=10567.880987793702, close=9935.455616420175)\nStock(name='Bennett LLC', symbol='Benne', open=10295, high=12569.368482577476, close=10893.524091176829)\nStock(name='Kane, Buchanan and Miller', symbol='Kane,', open=10093, high=13865.715645869626, close=10592.806979619032)\nStock(name='Smith-Moore', symbol='Smith', open=10915, high=13576.33301870393, close=11062.651658708786)\nStock(name='Combs, Lee and Jones', symbol='Combs', open=10042, high=12932.507896524055, close=8994.064627747875)\nStock(name='Nelson, Andrews and Richardson', symbol='Nelso', open=10515, high=15072.402036889702, close=12730.139998928267)\nStock(name='Watson Inc', symbol='Watso', open=10279, high=12783.77083549048, close=12254.534691057757)\nStock(name='Ramsey PLC', symbol='Ramse', open=10631, high=15219.115019859542, close=14302.546540444278)\nStock(name='Mcclain-Bell', symbol='Mccla', open=10726, high=12184.156377042258, close=10001.05798954847)\nStock(name='Brown, Luna and Garza', symbol='Brown', open=10833, high=12530.420629871283, close=9861.521040518392)\nStock(name='Russell Ltd', symbol='Russe', open=10664, high=13885.105495008082, close=12654.580226084101)\nStock(name='Ward Ltd', symbol='Ward ', open=10833, high=14642.458271707648, close=13842.071279942296)\nStock(name='Hall-Rubio', symbol='Hall-', open=10472, high=14655.7355154144, close=10234.026173680664)\nStock(name='Brown-Bowers', symbol='Brown', open=10029, high=13080.118670630985, close=11921.04994118174)\nStock(name='Hardy-Lee', symbol='Hardy', open=10621, high=13188.789751910563, close=10698.424246632007)\nStock(name='Fisher Inc', symbol='Fishe', open=10443, high=15641.107887053371, close=12641.377196798036)\nStock(name='Paul, Wallace and Booth', symbol='Paul,', open=10133, high=12348.359704873457, close=10325.754945107234)\nStock(name='Collins and Sons', symbol='Colli', open=10122, high=14061.935230917104, close=8572.319164507)\nStock(name='Martinez-Hernandez', symbol='Marti', open=10761, high=15722.306429386774, close=15223.233956674278)\nStock(name='Schwartz-Butler', symbol='Schwa', open=10445, high=14529.103247641136, close=10198.78089805867)\nStock(name='Vaughn-Fox', symbol='Vaugh', open=10325, high=13655.672769810535, close=12067.59793504656)\nStock(name='Hawkins Ltd', symbol='Hawki', open=10871, high=13085.255154170012, close=12755.253607152794)\nStock(name='Smith-Rodriguez', symbol='Smith', open=10051, high=13404.81928643514, close=11507.039316072225)\nStock(name='Young Inc', symbol='Young', open=10889, high=14650.89554526247, close=9278.825554042478)\nStock(name='Stafford, Morris and Rice', symbol='Staff', open=10638, high=14969.664198418372, close=13681.963335255765)\nStock(name='Perez-Cruz', symbol='Perez', open=10525, high=15546.690599780864, close=13826.025676328692)\nStock(name='Stephens, Alexander and Payne', symbol='Steph', open=10212, high=13508.617410351053, close=12086.332356081497)\nStock(name='Johnson, Santos and Woodard', symbol='Johns', open=10479, high=12163.703376868556, close=10027.929468829301)\nStock(name='Mendoza, Brown and Coleman', symbol='Mendo', open=10934, high=15592.55134958516, close=9331.363605021346)\nStock(name='Holmes PLC', symbol='Holme', open=10222, high=10242.510644422824, close=10058.391856867771)\nStock(name='Joyce, Jones and Gardner', symbol='Joyce', open=10200, high=11595.909170979718, close=8390.716449071742)\nStock(name='Andersen Ltd', symbol='Ander', open=10334, high=14421.582208070582, close=13958.686152061407)\nStock(name='Blair-Cline', symbol='Blair', open=10308, high=11906.874410579649, close=11343.080579687732)\nStock(name='Hansen Inc', symbol='Hanse', open=10430, high=11116.160503588217, close=8888.058425053665)\nStock(name='Salinas-Garcia', symbol='Salin', open=10578, high=11621.127470373744, close=8521.857852124893)\nStock(name='Black-Salas', symbol='Black', open=10067, high=10700.964510136355, close=8605.247081194517)\nStock(name='Medina, King and Murphy', symbol='Medin', open=10532, high=15036.45004635949, close=14934.97118375853)\nStock(name='White, Vaughan and Perkins', symbol='White', open=10468, high=12061.7585710683, close=10054.70146450874)\nStock(name='Randolph Inc', symbol='Rando', open=10881, high=12649.73438166466, close=9152.16907868715)\nStock(name='Bowen, Scott and Johnston', symbol='Bowen', open=10424, high=14248.35796145445, close=8747.323015829204)\nStock(name='Quinn-Bailey', symbol='Quinn', open=10563, high=12274.804683555218, close=11859.819774944708)\nStock(name='Edwards, Gibson and Guerrero', symbol='Edwar', open=10288, high=11381.009704137272, close=11003.355567516073)\nStock(name='Davis PLC', symbol='Davis', open=10284, high=11264.17698833578, close=9857.931310004287)\n"
     ]
    }
   ],
   "source": [
    "stock_market = session9.init_3()\n",
    "for i in range(100):\n",
    "    print(stock_market[i],sep='\\n\\n')"
   ]
  },
  {
   "cell_type": "code",
   "execution_count": 6,
   "metadata": {
    "tags": [
     "outputPrepend"
    ]
   },
   "outputs": [
    {
     "output_type": "stream",
     "name": "stdout",
     "text": [
      "', symbol='Craig', open=10447, high=12460.295429171498, close=10774.197032264674, weight=9.950938264319953e-05)\n",
      "Stock_with_weight(name='Mitchell, Stephens and Hawkins', symbol='Mitch', open=10704, high=11704.615087032964, close=10230.588249532797, weight=0.00010195734965184337)\n",
      "Stock_with_weight(name='Gould, Allen and Sanders', symbol='Gould', open=10479, high=14207.04093000993, close=10013.669673078615, weight=9.981418787384778e-05)\n",
      "Stock_with_weight(name='Perez-Cline', symbol='Perez', open=10695, high=10829.072786117076, close=9419.787453168488, weight=0.00010187162318072355)\n",
      "Stock_with_weight(name='Kelly, Lynch and Hughes', symbol='Kelly', open=10450, high=14675.367696570927, close=8390.390512112035, weight=9.95379581335728e-05)\n",
      "Stock_with_weight(name='Yoder and Sons', symbol='Yoder', open=10060, high=11081.945594940818, close=8332.24631162916, weight=9.582314438504711e-05)\n",
      "Stock_with_weight(name='Jones, Hamilton and Whitaker', symbol='Jones', open=10553, high=14980.619950844532, close=10145.475004670134, weight=0.00010051904996972189)\n",
      "Stock_with_weight(name='Ferguson-Hendrix', symbol='Fergu', open=10154, high=10574.0622638122, close=9408.917326755798, weight=9.671850975007638e-05)\n",
      "Stock_with_weight(name='Hall-Blanchard', symbol='Hall-', open=10990, high=16243.770316003182, close=16058.664461638062, weight=0.0001046815464007622)\n",
      "Stock_with_weight(name='Warner, Robinson and Lawson', symbol='Warne', open=10886, high=12276.467001639312, close=10208.013750596529, weight=0.00010369092940115535)\n",
      "Stock_with_weight(name='Boyd, Lawrence and Wilkins', symbol='Boyd,', open=10882, high=15542.285380175765, close=13530.673382257432, weight=0.00010365282874732432)\n",
      "Stock_with_weight(name='Garcia Ltd', symbol='Garci', open=10949, high=11243.809394528385, close=9395.638482619666, weight=0.00010429101469899412)\n",
      "Stock_with_weight(name='Jackson and Sons', symbol='Jacks', open=10433, high=13493.754691014667, close=10882.479678145153, weight=9.937603035479091e-05)\n",
      "Stock_with_weight(name='Aguilar Inc', symbol='Aguil', open=10190, high=15096.197011183853, close=11078.074953112715, weight=9.706141563455567e-05)\n",
      "Stock_with_weight(name='Kirk LLC', symbol='Kirk ', open=10341, high=11402.523694760921, close=9376.36128431171, weight=9.849971531667715e-05)\n",
      "Stock_with_weight(name='Vance Group', symbol='Vance', open=10003, high=13869.11861662647, close=10187.6870393081, weight=9.52802100679549e-05)\n",
      "Stock_with_weight(name='Reyes Group', symbol='Reyes', open=10319, high=12003.330372897512, close=8982.453531463565, weight=9.829016172060648e-05)\n",
      "Stock_with_weight(name='Moore-Hernandez', symbol='Moore', open=10804, high=14742.843518215916, close=13946.550230848003, weight=0.00010290986599761918)\n",
      "Stock_with_weight(name='White, Cunningham and Freeman', symbol='White', open=10591, high=13319.067912550623, close=10734.933014457998, weight=0.00010088100618111669)\n",
      "Stock_with_weight(name='Jackson-Martinez', symbol='Jacks', open=10460, high=10648.364958633514, close=9858.326898126812, weight=9.963320976815037e-05)\n",
      "Stock_with_weight(name='Leach LLC', symbol='Leach', open=10445, high=13511.358711172881, close=8616.331751810925, weight=9.9490332316284e-05)\n",
      "Stock_with_weight(name='Daniels, Lopez and Hall', symbol='Danie', open=10100, high=14208.852445977771, close=14188.938509433636, weight=9.620415092335745e-05)\n",
      "Stock_with_weight(name='Todd-Duncan', symbol='Todd-', open=10603, high=10838.219703186796, close=10445.031551956481, weight=0.0001009953081426098)\n",
      "Stock_with_weight(name='Cunningham Ltd', symbol='Cunni', open=10718, high=11908.516864996527, close=11784.954923823983, weight=0.00010209070194025198)\n",
      "Stock_with_weight(name='Wolf-Wilson', symbol='Wolf-', open=10745, high=14653.806370533512, close=12596.861018513973, weight=0.00010234788135361146)\n",
      "Stock_with_weight(name='Jimenez, Pope and Garner', symbol='Jimen', open=10254, high=14405.830601168758, close=13046.213729620958, weight=9.76710260958522e-05)\n",
      "Stock_with_weight(name='Romero Inc', symbol='Romer', open=10378, high=15542.038748583527, close=11828.596781677483, weight=9.88521463646142e-05)\n",
      "Stock_with_weight(name='White PLC', symbol='White', open=10664, high=14872.980080821208, close=14506.220241300844, weight=0.00010157634311353305)\n",
      "Stock_with_weight(name='Jimenez, Miller and Keller', symbol='Jimen', open=10944, high=15996.940880916569, close=12413.302920374195, weight=0.00010424338888170533)\n",
      "Stock_with_weight(name='Grant, Walters and Ingram', symbol='Grant', open=10397, high=13748.745066840416, close=12927.861661694422, weight=9.903312447031162e-05)\n",
      "Stock_with_weight(name='Flynn, Hubbard and Sanchez', symbol='Flynn', open=10955, high=16380.082945767377, close=13379.28152606351, weight=0.00010434816567974066)\n",
      "Stock_with_weight(name='Holder-Johnson', symbol='Holde', open=10446, high=11665.729094374175, close=8886.54945973532, weight=9.949985747974176e-05)\n",
      "Stock_with_weight(name='Ryan Group', symbol='Ryan ', open=10188, high=11382.323080184962, close=9977.015586782592, weight=9.704236530764016e-05)\n",
      "Stock_with_weight(name='Mclean-Rodriguez', symbol='Mclea', open=10361, high=13909.436688534997, close=12185.314421167299, weight=9.869021858583231e-05)\n",
      "Stock_with_weight(name='Norton and Sons', symbol='Norto', open=10354, high=11580.157773585574, close=10272.826676708, weight=9.862354244162801e-05)\n",
      "Stock_with_weight(name='Gregory-Abbott', symbol='Grego', open=10247, high=11504.686806913576, close=9178.986623154506, weight=9.760434995164788e-05)\n",
      "Stock_with_weight(name='Downs PLC', symbol='Downs', open=10135, high=11523.63204074267, close=10550.753164646907, weight=9.653753164437898e-05)\n",
      "Stock_with_weight(name='Young-May', symbol='Young', open=10914, high=14483.025438466359, close=12624.254192980054, weight=0.00010395763397797258)\n",
      "Stock_with_weight(name='Rogers, Watts and Bryan', symbol='Roger', open=10228, high=12689.190512308036, close=11843.673546257474, weight=9.742337184595048e-05)\n",
      "Stock_with_weight(name='Green, Sims and Taylor', symbol='Green', open=10585, high=11033.794069082207, close=10417.455286365624, weight=0.00010082385520037015)\n",
      "Stock_with_weight(name='Morgan, Hernandez and Flores', symbol='Morga', open=10745, high=13261.043783302077, close=11456.309235945791, weight=0.00010234788135361146)\n",
      "Stock_with_weight(name='Cowan PLC', symbol='Cowan', open=10066, high=14140.387339043571, close=12316.005406895281, weight=9.588029536579366e-05)\n",
      "Stock_with_weight(name='Hernandez Inc', symbol='Herna', open=10567, high=13266.551438425355, close=12933.550808301588, weight=0.0001006524022581305)\n",
      "Stock_with_weight(name='Davis-Johnson', symbol='Davis', open=10304, high=11877.528777210136, close=11456.929798262212, weight=9.81472842687401e-05)\n",
      "Stock_with_weight(name='Burke, Williams and Mclean', symbol='Burke', open=10202, high=13639.254646173938, close=10114.667352845463, weight=9.717571759604878e-05)\n",
      "Stock_with_weight(name='Horton, Mercer and Young', symbol='Horto', open=10410, high=11199.013679988238, close=10169.43702180108, weight=9.915695159526247e-05)\n",
      "Stock_with_weight(name='Livingston Group', symbol='Livin', open=10018, high=12991.831247267, close=9519.158526574247, weight=9.542308751982128e-05)\n",
      "Stock_with_weight(name='Benson, Holland and Whitehead', symbol='Benso', open=10498, high=12716.959100597905, close=11347.631065639562, weight=9.999516597954519e-05)\n",
      "Stock_with_weight(name='Jackson-Sanchez', symbol='Jacks', open=10264, high=13074.59314347075, close=12544.043966523905, weight=9.776627773042977e-05)\n",
      "Stock_with_weight(name='Rose Inc', symbol='Rose ', open=10420, high=15443.673276404681, close=10117.515514748255, weight=9.925220322984005e-05)\n",
      "Stock_with_weight(name='Berry-Burns', symbol='Berry', open=10553, high=14504.6975926434, close=12705.016090311086, weight=0.00010051904996972189)\n",
      "Stock_with_weight(name='Morales-Bell', symbol='Moral', open=10637, high=14084.327964136099, close=13272.79954800375, weight=0.00010131916370017357)\n",
      "Stock_with_weight(name='Bolton Ltd', symbol='Bolto', open=10956, high=13954.17474221408, close=8847.825408196248, weight=0.00010435769084319842)\n",
      "Stock_with_weight(name='Gonzalez and Sons', symbol='Gonza', open=10879, high=13363.17470365483, close=11377.573939816737, weight=0.00010362425325695105)\n",
      "Stock_with_weight(name='Mills-Jackson', symbol='Mills', open=10482, high=13223.075620521466, close=10759.319256585832, weight=9.984276336422106e-05)\n",
      "Stock_with_weight(name='Jensen-Trevino', symbol='Jense', open=10249, high=12570.171013801733, close=11991.196450452606, weight=9.762340027856341e-05)\n",
      "Stock_with_weight(name='Chung, Martinez and Wilson', symbol='Chung', open=10585, high=14562.860460049402, close=11431.081305134332, weight=0.00010082385520037015)\n",
      "Stock_with_weight(name='Webb Ltd', symbol='Webb ', open=10686, high=15954.591856645213, close=10141.114238593273, weight=0.00010178589670960372)\n",
      "Stock_with_weight(name='Smith Inc', symbol='Smith', open=10902, high=13868.596895145385, close=10963.292129891684, weight=0.00010384333201647948)\n",
      "Stock_with_weight(name='Hodge, Payne and Phillips', symbol='Hodge', open=10721, high=13564.769595366117, close=11580.543485218908, weight=0.00010211927743062526)\n",
      "Stock_with_weight(name='Patton, Hodges and Carroll', symbol='Patto', open=10692, high=10837.022255145057, close=8567.340445013237, weight=0.00010184304769035027)\n",
      "Stock_with_weight(name='Nichols Ltd', symbol='Nicho', open=10533, high=12752.81740970108, close=11833.56915724237, weight=0.00010032854670056673)\n",
      "Stock_with_weight(name='Thomas-Leon', symbol='Thoma', open=10936, high=11790.778208825212, close=10318.776408621157, weight=0.00010416718757404326)\n",
      "Stock_with_weight(name='Reyes, Mercado and Peterson', symbol='Reyes', open=10375, high=14799.9447714993, close=9594.699212838044, weight=9.882357087424093e-05)\n",
      "Stock_with_weight(name='Logan-Tran', symbol='Logan', open=10137, high=10945.813392139326, close=10082.379416455813, weight=9.65565819712945e-05)\n",
      "Stock_with_weight(name='Schultz, Franco and Kelley', symbol='Schul', open=10217, high=10714.569214446403, close=10576.919780958948, weight=9.731859504791515e-05)\n",
      "Stock_with_weight(name='Payne Group', symbol='Payne', open=10888, high=16098.747874586088, close=14951.375514282918, weight=0.00010370997972807087)\n",
      "Stock_with_weight(name='Cuevas Ltd', symbol='Cueva', open=10756, high=12669.76554551537, close=9052.382193472979, weight=0.00010245265815164679)\n",
      "Stock_with_weight(name='Gregory, Moon and Campbell', symbol='Grego', open=10468, high=12341.7257020326, close=8387.078917665745, weight=9.970941107581245e-05)\n",
      "Stock_with_weight(name='Lee LLC', symbol='Lee L', open=10348, high=13217.699506120292, close=9367.938577448547, weight=9.856639146088147e-05)\n",
      "Stock_with_weight(name='Rivers, Pennington and Conway', symbol='River', open=10812, high=12490.294689011896, close=10864.16523933881, weight=0.00010298606730528125)\n",
      "Stock_with_weight(name='Campbell, Walters and Morales', symbol='Campb', open=10145, high=12949.087012887248, close=11042.29375023946, weight=9.663278327895655e-05)\n",
      "Stock_with_weight(name='Miles LLC', symbol='Miles', open=10341, high=15089.878081485347, close=14841.341322667951, weight=9.849971531667715e-05)\n",
      "Stock_with_weight(name='Reilly, Klein and Davis', symbol='Reill', open=10733, high=11323.757594410456, close=10829.621422569935, weight=0.00010223357939211836)\n",
      "Stock_with_weight(name='Donovan Group', symbol='Donov', open=10799, high=10907.093983381816, close=8725.774201875784, weight=0.0001028622401803304)\n",
      "Stock_with_weight(name='Snyder-Stone', symbol='Snyde', open=10848, high=11275.578003890807, close=10576.768510069209, weight=0.00010332897318976055)\n",
      "Stock_with_weight(name='Brooks, Gonzalez and Myers', symbol='Brook', open=10681, high=15908.597795984804, close=9912.510059499917, weight=0.00010173827089231493)\n",
      "Stock_with_weight(name='Perry, Walsh and Alexander', symbol='Perry', open=10660, high=15770.477862037753, close=15105.787374100377, weight=0.000101538242459702)\n",
      "Stock_with_weight(name='Herman-Levy', symbol='Herma', open=10332, high=13240.205726898466, close=12937.731517599866, weight=9.841398884555734e-05)\n",
      "Stock_with_weight(name='Smith-Webb', symbol='Smith', open=10313, high=15202.96050599417, close=11786.350004298645, weight=9.823301073985992e-05)\n",
      "Stock_with_weight(name='Hart Ltd', symbol='Hart ', open=10580, high=15258.507452431757, close=9665.74784641845, weight=0.00010077622938308136)\n",
      "Stock_with_weight(name='Kelly, Reed and Mccall', symbol='Kelly', open=10773, high=11267.61642277105, close=9248.18967857378, weight=0.00010261458593042868)\n",
      "Stock_with_weight(name='Rogers, Ramirez and Hughes', symbol='Roger', open=10947, high=12484.12141448974, close=9297.596840275593, weight=0.0001042719643720786)\n",
      "Stock_with_weight(name='Bender-Estes', symbol='Bende', open=10778, high=14318.143568641135, close=9918.91190495833, weight=0.00010266221174771748)\n",
      "Stock_with_weight(name='Lowe, Graham and Riggs', symbol='Lowe,', open=10457, high=14546.560035628483, close=14537.0125527808, weight=9.96046342777771e-05)\n",
      "Stock_with_weight(name='Martin Group', symbol='Marti', open=10879, high=12188.972031048954, close=9711.208582522577, weight=0.00010362425325695105)\n",
      "Stock_with_weight(name='Rodriguez, Smith and Gibbs', symbol='Rodri', open=10405, high=13135.910118430218, close=9811.806101187143, weight=9.910932577797368e-05)\n",
      "Stock_with_weight(name='Thomas-Cox', symbol='Thoma', open=10154, high=10252.17748801543, close=9485.629195043131, weight=9.671850975007638e-05)\n",
      "Stock_with_weight(name='Baker and Sons', symbol='Baker', open=10719, high=13977.24662518609, close=13410.702243123887, weight=0.00010210022710370974)\n",
      "Stock_with_weight(name='Kelley LLC', symbol='Kelle', open=10303, high=13164.383197685069, close=11659.868382383793, weight=9.813775910528235e-05)\n",
      "Stock_with_weight(name='Tran PLC', symbol='Tran ', open=10480, high=14713.445417668361, close=9993.18331563611, weight=9.982371303730555e-05)\n",
      "Stock_with_weight(name='Atkins-Vasquez', symbol='Atkin', open=10478, high=14152.896012900146, close=12685.98990026016, weight=9.980466271039002e-05)\n",
      "Stock_with_weight(name='Tran, Warner and Garcia', symbol='Tran,', open=10061, high=14746.48494612338, close=14072.35677322762, weight=9.583266954850487e-05)\n",
      "Stock_with_weight(name='Wilson-Mcguire', symbol='Wilso', open=10055, high=11877.829920869937, close=10652.804692856946, weight=9.577551856775832e-05)\n",
      "Stock_with_weight(name='Pearson-Dean', symbol='Pears', open=10072, high=12610.452206745125, close=8945.547038200955, weight=9.593744634654021e-05)\n",
      "Stock_with_weight(name='Campbell-Mcintosh', symbol='Campb', open=10494, high=13537.064664450647, close=12604.44868536474, weight=9.995706532571415e-05)\n",
      "Stock_with_weight(name='Lopez-Mcgee', symbol='Lopez', open=10859, high=15281.791899824055, close=15041.76889839954, weight=0.00010343374998779589)\n",
      "Stock_with_weight(name='Moran, Garcia and King', symbol='Moran', open=10074, high=14953.849301881812, close=8167.734422699171, weight=9.595649667345573e-05)\n",
      "Stock_with_weight(name='Rodriguez and Sons', symbol='Rodri', open=10270, high=13863.971891157671, close=11804.483826350763, weight=9.782342871117633e-05)\n",
      "Stock_with_weight(name='Miller-Perry', symbol='Mille', open=10406, high=12682.060895528095, close=11108.656641769536, weight=9.911885094143144e-05)\n",
      "Stock_with_weight(name='Robinson-Barber', symbol='Robin', open=10376, high=14885.634635399918, close=9105.818611741388, weight=9.883309603769869e-05)\n",
      "Stock_with_weight(name='Cardenas, Thomas and Daniel', symbol='Carde', open=10483, high=10544.684323988376, close=9676.239366603231, weight=9.985228852767882e-05)\n",
      "Stock_with_weight(name='Dodson Inc', symbol='Dodso', open=10580, high=15571.796622235537, close=11627.27944904397, weight=0.00010077622938308136)\n",
      "Stock_with_weight(name='Anderson-Harris', symbol='Ander', open=10487, high=11420.26003215275, close=8892.062073026571, weight=9.989038918150985e-05)\n",
      "Stock_with_weight(name='Robbins Inc', symbol='Robbi', open=10934, high=13370.647262648445, close=12071.791522990061, weight=0.00010414813724712775)\n",
      "Stock_with_weight(name='Gonzalez, Ball and Hardy', symbol='Gonza', open=10689, high=14608.662342097783, close=9810.237402949588, weight=0.000101814472199977)\n",
      "Stock_with_weight(name='Rowe-Snyder', symbol='Rowe-', open=10269, high=12480.202989585252, close=11678.760471302954, weight=9.781390354771857e-05)\n",
      "Stock_with_weight(name='Brady Group', symbol='Brady', open=10961, high=12329.502922970112, close=10113.568890406368, weight=0.00010440531666048722)\n",
      "Stock_with_weight(name='Jordan, Leach and Garcia', symbol='Jorda', open=10118, high=14467.574034941388, close=8910.665323349744, weight=9.637560386559709e-05)\n",
      "Stock_with_weight(name='Johnson, Roberts and Garrison', symbol='Johns', open=10158, high=13989.22062840883, close=9314.28804790021, weight=9.675661040390741e-05)\n",
      "Stock_with_weight(name='Chapman-Sullivan', symbol='Chapm', open=10507, high=14592.835986903869, close=12749.798491881636, weight=0.00010008089245066501)\n",
      "Stock_with_weight(name='Ramos PLC', symbol='Ramos', open=10099, high=10183.853697275825, close=9508.802764354683, weight=9.619462575989967e-05)\n",
      "Stock_with_weight(name='Mcdonald-Lee', symbol='Mcdon', open=10701, high=13043.961464420867, close=12059.343894535177, weight=0.0001019287741614701)\n",
      "Stock_with_weight(name='Griffin-Young', symbol='Griff', open=10643, high=11884.335269815645, close=11656.523503582339, weight=0.00010137631468092012)\n",
      "Stock_with_weight(name='Herring-Caldwell', symbol='Herri', open=10719, high=15665.862438703423, close=10679.084005898472, weight=0.00010210022710370974)\n",
      "Stock_with_weight(name='Vaughan PLC', symbol='Vaugh', open=10895, high=15018.78404294348, close=9229.378369000326, weight=0.00010377665587227518)\n",
      "Stock_with_weight(name='Brown Inc', symbol='Brown', open=10162, high=11126.62560431149, close=10127.295022013113, weight=9.679471105773844e-05)\n",
      "Stock_with_weight(name='Barrett PLC', symbol='Barre', open=10356, high=15179.374968902106, close=14174.740792252383, weight=9.864259276854353e-05)\n",
      "Stock_with_weight(name='Johnston-Rangel', symbol='Johns', open=10691, high=11755.593448013959, close=9547.174975234451, weight=0.00010183352252689251)\n",
      "Stock_with_weight(name='Lara-Jones', symbol='Lara-', open=10431, high=10437.56084948157, close=9531.59094806631, weight=9.93569800278754e-05)\n",
      "Stock_with_weight(name='Bennett and Sons', symbol='Benne', open=10766, high=14871.760221604822, close=9106.882946572498, weight=0.00010254790978622438)\n",
      "Stock_with_weight(name='Maxwell LLC', symbol='Maxwe', open=10188, high=14159.900173063295, close=12565.92771508858, weight=9.704236530764016e-05)\n",
      "Stock_with_weight(name='Hall, Pierce and Graham', symbol='Hall,', open=10559, high=15217.225462942233, close=12686.869499895813, weight=0.00010057620095046843)\n",
      "Stock_with_weight(name='Page, Gonzales and Roman', symbol='Page,', open=10601, high=13312.439528597688, close=9517.715543119843, weight=0.00010097625781569428)\n",
      "Stock_with_weight(name='Gray and Sons', symbol='Gray ', open=10421, high=12992.389648229904, close=10699.445848503594, weight=9.926172839329781e-05)\n",
      "Stock_with_weight(name='Jones-Bailey', symbol='Jones', open=10569, high=12138.73321944094, close=11517.843871397896, weight=0.00010067145258504602)\n",
      "Stock_with_weight(name='Acosta and Sons', symbol='Acost', open=10963, high=13700.735380145636, close=10905.7717465714, weight=0.00010442436698740274)\n",
      "Stock_with_weight(name='Sutton-Ayers', symbol='Sutto', open=10178, high=12621.585702506492, close=10449.62339080587, weight=9.694711367306257e-05)\n",
      "Stock_with_weight(name='Wilson PLC', symbol='Wilso', open=10903, high=11500.131488496037, close=11137.427893743792, weight=0.00010385285717993724)\n",
      "Stock_with_weight(name='Elliott Inc', symbol='Ellio', open=10360, high=10680.182557271359, close=8491.146845961259, weight=9.868069342237456e-05)\n",
      "Stock_with_weight(name='Christian-Barnes', symbol='Chris', open=10392, high=13096.608228462033, close=12631.552945122105, weight=9.898549865302282e-05)\n",
      "Stock_with_weight(name='Lawson, Roberts and Good', symbol='Lawso', open=10935, high=12827.753541287315, close=8909.881804567322, weight=0.0001041576624105855)\n"
     ]
    },
    {
     "output_type": "execute_result",
     "data": {
      "text/plain": [
       "tock_with_weight(name='Freeman, Faulkner and Barnett', symbol='Freem', open=10744, high=12658.750644991977, close=8630.467988801163, weight=0.0001023383561901537),\n",
       " Stock_with_weight(name='Elliott Group', symbol='Ellio', open=10313, high=15379.596536258121, close=10138.231185777677, weight=9.823301073985992e-05),\n",
       " Stock_with_weight(name='Hartman, Lopez and Morales', symbol='Hartm', open=10076, high=13049.71415682815, close=9078.28953938906, weight=9.597554700037124e-05),\n",
       " Stock_with_weight(name='Rodriguez, Fletcher and Martin', symbol='Rodri', open=10545, high=14515.09800588972, close=13421.590314312643, weight=0.00010044284866205983),\n",
       " Stock_with_weight(name='Hogan Inc', symbol='Hogan', open=10458, high=11551.89863436531, close=9660.49821998684, weight=9.961415944123486e-05),\n",
       " Stock_with_weight(name='Price-Garcia', symbol='Price', open=10356, high=15067.532263908188, close=9375.43098770905, weight=9.864259276854353e-05),\n",
       " Stock_with_weight(name='Abbott-Weber', symbol='Abbot', open=10914, high=14341.43254379015, close=13556.72178969084, weight=0.00010395763397797258),\n",
       " Stock_with_weight(name='Perez Inc', symbol='Perez', open=10321, high=11344.147026816005, close=11306.472411576266, weight=9.8309212047522e-05),\n",
       " Stock_with_weight(name='King-Owens', symbol='King-', open=10378, high=13285.285604431381, close=9692.49968823282, weight=9.88521463646142e-05),\n",
       " Stock_with_weight(name='Quinn, Johnson and Fox', symbol='Quinn', open=10534, high=12102.22091315141, close=10343.36172312552, weight=0.00010033807186402448),\n",
       " Stock_with_weight(name='Green, Novak and Smith', symbol='Green', open=10081, high=10730.443438396156, close=8588.682427332036, weight=9.602317281766003e-05),\n",
       " Stock_with_weight(name='Griffin, Carr and Wilson', symbol='Griff', open=10741, high=10966.766329209255, close=9784.094649624056, weight=0.00010230978069978042),\n",
       " Stock_with_weight(name='Frazier, Brown and Petersen', symbol='Frazi', open=10971, high=12426.023865489633, close=11128.709904427753, weight=0.0001045005682950648),\n",
       " Stock_with_weight(name='Herrera-Jones', symbol='Herre', open=10881, high=12798.218048541425, close=10442.288860555502, weight=0.00010364330358386657),\n",
       " Stock_with_weight(name='Stephenson, Bender and Rodriguez', symbol='Steph', open=10400, high=11218.622412957333, close=9879.006174637872, weight=9.906169996068489e-05),\n",
       " Stock_with_weight(name='Sanders, Garcia and Bullock', symbol='Sande', open=10367, high=13550.109654104903, close=9439.65109653385, weight=9.874736956657887e-05),\n",
       " Stock_with_weight(name='Holt and Sons', symbol='Holt ', open=10299, high=14486.550339487574, close=14178.732276791096, weight=9.809965845145132e-05),\n",
       " Stock_with_weight(name='Barry, Martinez and Houston', symbol='Barry', open=10134, high=11701.85874102321, close=10612.514505407802, weight=9.652800648092122e-05),\n",
       " Stock_with_weight(name='Mcclure-Morris', symbol='Mcclu', open=10327, high=14435.277167449325, close=9789.267110923429, weight=9.836636302826854e-05),\n",
       " Stock_with_weight(name='Stewart-Miller', symbol='Stewa', open=10342, high=13410.064866813882, close=9834.619495645326, weight=9.850924048013491e-05),\n",
       " Stock_with_weight(name='Hood Group', symbol='Hood ', open=10234, high=14920.588855865608, close=8431.210586028366, weight=9.748052282669704e-05),\n",
       " Stock_with_weight(name='Roberts, Potter and Rosario', symbol='Rober', open=10954, high=15859.375140756398, close=9031.642809335613, weight=0.0001043386405162829),\n",
       " Stock_with_weight(name='Riley Inc', symbol='Riley', open=10758, high=13178.1714217465, close=10222.250932426541, weight=0.0001024717084785623),\n",
       " Stock_with_weight(name='Moore PLC', symbol='Moore', open=10517, high=12227.835321586226, close=10243.530910312415, weight=0.0001001761440852426),\n",
       " Stock_with_weight(name='Brennan-Nelson', symbol='Brenn', open=10045, high=14682.785470844952, close=9545.340915520579, weight=9.568026693318074e-05),\n",
       " Stock_with_weight(name='Larsen-Scott', symbol='Larse', open=10291, high=12942.77086957343, close=12511.995309856653, weight=9.802345714378925e-05),\n",
       " Stock_with_weight(name='Mcclain LLC', symbol='Mccla', open=10673, high=14663.99895665064, close=11280.689137379708, weight=0.00010166206958465286),\n",
       " Stock_with_weight(name='Davis, Anthony and Walker', symbol='Davis', open=10540, high=13331.910985231807, close=8924.25315740368, weight=0.00010039522284477103),\n",
       " Stock_with_weight(name='Wang PLC', symbol='Wang ', open=10628, high=11036.73425728439, close=8654.88767749138, weight=0.00010123343722905376),\n",
       " Stock_with_weight(name='Higgins-Stark', symbol='Higgi', open=10468, high=10972.787304273881, close=9405.673068268758, weight=9.970941107581245e-05),\n",
       " Stock_with_weight(name='Craig-Rice', symbol='Craig', open=10166, high=13253.608700175972, close=12181.347483101677, weight=9.683281171156948e-05),\n",
       " Stock_with_weight(name='Watkins, Williamson and Munoz', symbol='Watki', open=10333, high=10369.999229412406, close=9055.600172512772, weight=9.84235140090151e-05),\n",
       " Stock_with_weight(name='Poole Ltd', symbol='Poole', open=10659, high=15364.568595377214, close=10034.26928974573, weight=0.00010152871729624425),\n",
       " Stock_with_weight(name='Gould, Garcia and Ramirez', symbol='Gould', open=10999, high=14625.542162217002, close=10963.4541194354, weight=0.00010476727287188203),\n",
       " Stock_with_weight(name='Crosby, Smith and Pope', symbol='Crosb', open=10308, high=12998.52296329746, close=9081.257984500444, weight=9.818538492257114e-05),\n",
       " Stock_with_weight(name='Young-Martin', symbol='Young', open=10690, high=14717.214849362756, close=12561.06532892683, weight=0.00010182399736343475),\n",
       " Stock_with_weight(name='Munoz, Wilson and Patterson', symbol='Munoz', open=10538, high=14773.936042263003, close=13501.901940174199, weight=0.00010037617251785551),\n",
       " Stock_with_weight(name='Schwartz-Evans', symbol='Schwa', open=10184, high=11466.673089612708, close=10945.644682514514, weight=9.700426465380913e-05),\n",
       " Stock_with_weight(name='Mcclure, Kelley and Walker', symbol='Mcclu', open=10817, high=11424.521798794649, close=10939.189250637006, weight=0.00010303369312257004),\n",
       " Stock_with_weight(name='Haas LLC', symbol='Haas ', open=10540, high=14499.314204770359, close=11811.868228951353, weight=0.00010039522284477103),\n",
       " Stock_with_weight(name='Welch LLC', symbol='Welch', open=10771, high=15570.545890544718, close=11838.004101688854, weight=0.00010259553560351316),\n",
       " Stock_with_weight(name='Gonzalez-Wilson', symbol='Gonza', open=10708, high=13458.392325143634, close=10847.172752527, weight=0.0001019954503056744),\n",
       " Stock_with_weight(name='Beltran Inc', symbol='Beltr', open=10153, high=13351.91963425605, close=11422.103524924854, weight=9.670898458661863e-05),\n",
       " Stock_with_weight(name='Blair-Schultz', symbol='Blair', open=10115, high=11815.167170738388, close=10557.240150931515, weight=9.63470283752238e-05),\n",
       " Stock_with_weight(name='Holt Group', symbol='Holt ', open=10127, high=12722.945110445218, close=12589.564465386622, weight=9.646133033671691e-05),\n",
       " Stock_with_weight(name='Schultz LLC', symbol='Schul', open=10412, high=11002.43484702719, close=10530.169015221349, weight=9.917600192217798e-05),\n",
       " Stock_with_weight(name='Payne, Coleman and Kirk', symbol='Payne', open=10941, high=12019.992152368279, close=11150.264829351925, weight=0.00010421481339133206),\n",
       " Stock_with_weight(name='Moore, Key and Bell', symbol='Moore', open=10415, high=15140.787194106644, close=9567.185701555014, weight=9.920457741255127e-05),\n",
       " Stock_with_weight(name='Rodriguez, Greene and Ruiz', symbol='Rodri', open=10557, high=11007.353081756073, close=9407.330131689681, weight=0.00010055715062355292),\n",
       " Stock_with_weight(name='Simmons LLC', symbol='Simmo', open=10679, high=11461.486351784508, close=10250.176113432082, weight=0.00010171922056539942),\n",
       " Stock_with_weight(name='Logan and Sons', symbol='Logan', open=10419, high=14580.49258057646, close=12119.410684947705, weight=9.92426780663823e-05),\n",
       " Stock_with_weight(name='Price-Morrow', symbol='Price', open=10837, high=12025.257468196072, close=9068.251819624662, weight=0.0001032241963917252),\n",
       " Stock_with_weight(name='Lynch Inc', symbol='Lynch', open=10210, high=14987.261724962387, close=13880.729537125717, weight=9.725191890371083e-05),\n",
       " Stock_with_weight(name='Sanchez Ltd', symbol='Sanch', open=10841, high=11123.105071823182, close=9375.664165340644, weight=0.00010326229704555623),\n",
       " Stock_with_weight(name='Miller Group', symbol='Mille', open=10826, high=11776.439145475788, close=10076.310567901231, weight=0.00010311941959368987),\n",
       " Stock_with_weight(name='Griffin-Harrison', symbol='Griff', open=10491, high=12077.419799649253, close=9331.63679620003, weight=9.992848983534088e-05),\n",
       " Stock_with_weight(name='Black-Burke', symbol='Black', open=10596, high=14260.441814373093, close=13496.857599666717, weight=0.00010092863199840549),\n",
       " Stock_with_weight(name='Werner, Ayers and Bautista', symbol='Werne', open=10014, high=13227.570045639583, close=8258.157990890473, weight=9.538498686599023e-05),\n",
       " Stock_with_weight(name='Hart-Butler', symbol='Hart-', open=10987, high=11150.82217934894, close=9519.224769433436, weight=0.00010465297091038892),\n",
       " Stock_with_weight(name='Johnson Inc', symbol='Johns', open=10298, high=14025.995750792845, close=11174.814635079805, weight=9.809013328799356e-05),\n",
       " Stock_with_weight(name='Leach Group', symbol='Leach', open=10268, high=11128.667853174244, close=10060.833923182487, weight=9.780437838426081e-05),\n",
       " Stock_with_weight(name='Payne, Robinson and Mitchell', symbol='Payne', open=10996, high=15240.017492781239, close=9895.308918004752, weight=0.00010473869738150875),\n",
       " Stock_with_weight(name='Barnes Ltd', symbol='Barne', open=10188, high=12936.542274905327, close=9365.558166952187, weight=9.704236530764016e-05),\n",
       " Stock_with_weight(name='Ramos-Mendoza', symbol='Ramos', open=10609, high=15545.864459428203, close=8623.422413744542, weight=0.00010105245912335634),\n",
       " Stock_with_weight(name='Russell-James', symbol='Russe', open=10726, high=13974.424634860818, close=11169.208559547036, weight=0.00010216690324791404),\n",
       " Stock_with_weight(name='Miller-Harris', symbol='Mille', open=10316, high=12462.99957695484, close=10017.667834154981, weight=9.826158623023321e-05),\n",
       " Stock_with_weight(name='Delacruz, Anderson and Aguilar', symbol='Delac', open=10136, high=11371.18112049309, close=8651.839915619268, weight=9.654705680783674e-05),\n",
       " Stock_with_weight(name='Hill-Armstrong', symbol='Hill-', open=10940, high=11259.655531066324, close=10898.220734946086, weight=0.00010420528822787429),\n",
       " Stock_with_weight(name='Bell-White', symbol='Bell-', open=10210, high=12451.434318170943, close=10593.003593349269, weight=9.725191890371083e-05),\n",
       " Stock_with_weight(name='Mitchell, Wilson and Lee', symbol='Mitch', open=10950, high=13980.979953319347, close=11290.0288025755, weight=0.00010430053986245188),\n",
       " Stock_with_weight(name='Bridges, King and Jacobs', symbol='Bridg', open=10994, high=15947.93839169379, close=10299.26635122956, weight=0.00010471964705459324),\n",
       " Stock_with_weight(name='Porter, Stone and Anderson', symbol='Porte', open=10579, high=11725.989524422432, close=9130.399855332545, weight=0.0001007667042196236),\n",
       " Stock_with_weight(name='Garcia, Trevino and Wright', symbol='Garci', open=10000, high=12686.980090968642, close=9729.10052495661, weight=9.525163457758162e-05),\n",
       " Stock_with_weight(name='Barton-Daniel', symbol='Barto', open=10355, high=11381.705375196201, close=10351.273707979868, weight=9.863306760508577e-05),\n",
       " Stock_with_weight(name='King Inc', symbol='King ', open=10625, high=12942.10450560255, close=11351.428480006844, weight=0.00010120486173868047),\n",
       " Stock_with_weight(name='Butler, Gonzalez and Morgan', symbol='Butle', open=10338, high=14498.94671654937, close=10803.821946684462, weight=9.847113982630388e-05),\n",
       " Stock_with_weight(name='Gonzalez PLC', symbol='Gonza', open=10050, high=12884.835240912485, close=8170.714885886429, weight=9.572789275046952e-05),\n",
       " Stock_with_weight(name='Ingram-Nguyen', symbol='Ingra', open=10633, high=12424.49129219839, close=10008.323544148054, weight=0.00010128106304634254),\n",
       " Stock_with_weight(name='Gentry-Hamilton', symbol='Gentr', open=10875, high=15176.033137364533, close=11770.780761948532, weight=0.00010358615260312002),\n",
       " Stock_with_weight(name='Gonzalez-Jackson', symbol='Gonza', open=10385, high=10547.629467386485, close=8704.187030300682, weight=9.891882250881852e-05),\n",
       " Stock_with_weight(name='Morris, Kirby and Hampton', symbol='Morri', open=10323, high=15146.031764254305, close=8851.996282299046, weight=9.832826237443751e-05),\n",
       " Stock_with_weight(name='Mooney Ltd', symbol='Moone', open=10787, high=16019.162642958809, close=10866.18004119452, weight=0.0001027479382188373),\n",
       " Stock_with_weight(name='Meyer-Duncan', symbol='Meyer', open=10041, high=13484.679080136331, close=9720.393591372385, weight=9.564216627934971e-05),\n",
       " Stock_with_weight(name='Weber-Ward', symbol='Weber', open=10098, high=10846.15402921759, close=10187.27496760702, weight=9.618510059644192e-05),\n",
       " Stock_with_weight(name='Thomas-Davis', symbol='Thoma', open=10576, high=11360.030259091964, close=10201.113789970846, weight=0.00010073812872925032),\n",
       " Stock_with_weight(name='Owens, Castillo and Griffin', symbol='Owens', open=10879, high=11201.192101598419, close=8754.784053969694, weight=0.00010362425325695105),\n",
       " Stock_with_weight(name='Sparks-West', symbol='Spark', open=10407, high=13150.962368877284, close=8353.306264394996, weight=9.912837610488919e-05),\n",
       " Stock_with_weight(name='Goodman-Arellano', symbol='Goodm', open=10634, high=12370.077870371653, close=10171.875673482466, weight=0.0001012905882098003),\n",
       " Stock_with_weight(name='Andrade-Garcia', symbol='Andra', open=10029, high=13981.211209281957, close=12082.1112019967, weight=9.552786431785661e-05),\n",
       " Stock_with_weight(name='Bass, Vega and Lopez', symbol='Bass,', open=10445, high=15338.558543895462, close=15272.113361491007, weight=9.9490332316284e-05),\n",
       " Stock_with_weight(name='Duncan, Schwartz and Howell', symbol='Dunca', open=10445, high=10580.494224263546, close=9806.358174338111, weight=9.9490332316284e-05),\n",
       " Stock_with_weight(name='Hardin Ltd', symbol='Hardi', open=10067, high=14895.175579739718, close=8691.506634691055, weight=9.588982052925143e-05),\n",
       " Stock_with_weight(name='Smith Ltd', symbol='Smith', open=10736, high=14900.52603539284, close=13177.64365725599, weight=0.00010226215488249163),\n",
       " Stock_with_weight(name='Johnson Inc', symbol='Johns', open=10545, high=12954.829127304238, close=10984.366838260868, weight=0.00010044284866205983),\n",
       " Stock_with_weight(name='Ortiz, Buchanan and Chapman', symbol='Ortiz', open=10215, high=11292.488064597293, close=10250.750650730217, weight=9.729954472099962e-05),\n",
       " Stock_with_weight(name='Baker, Thompson and Obrien', symbol='Baker', open=10403, high=14957.426388670261, close=12897.553837781448, weight=9.909027545105816e-05),\n",
       " Stock_with_weight(name='Gill-Snyder', symbol='Gill-', open=10097, high=11531.192346321131, close=8333.24871065919, weight=9.617557543298416e-05),\n",
       " Stock_with_weight(name='Jensen PLC', symbol='Jense', open=10240, high=13860.614681881907, close=8528.220302980691, weight=9.753767380744358e-05),\n",
       " Stock_with_weight(name='Carr, Bryant and Rice', symbol='Carr,', open=10314, high=14087.246236315703, close=10537.869727046775, weight=9.824253590331768e-05),\n",
       " Stock_with_weight(name='Stewart, Smith and Silva', symbol='Stewa', open=10415, high=14239.224537172784, close=9949.013041155169, weight=9.920457741255127e-05),\n",
       " Stock_with_weight(name='Navarro, Powell and Green', symbol='Navar', open=10846, high=12780.880907145009, close=11920.163155854163, weight=0.00010330992286284503),\n",
       " Stock_with_weight(name='Logan-Miranda', symbol='Logan', open=10123, high=12730.88299985043, close=12572.957353012702, weight=9.642322968288588e-05),\n",
       " Stock_with_weight(name='Shelton-Lewis', symbol='Shelt', open=10812, high=15706.355523082255, close=13570.141036021436, weight=0.00010298606730528125),\n",
       " Stock_with_weight(name='Evans LLC', symbol='Evans', open=10321, high=10592.158677185696, close=8868.106183708696, weight=9.8309212047522e-05),\n",
       " Stock_with_weight(name='Ortiz-Mathews', symbol='Ortiz', open=10388, high=11758.087055244629, close=10740.650376685091, weight=9.894739799919179e-05),\n",
       " Stock_with_weight(name='Stevenson PLC', symbol='Steve', open=10717, high=11052.093818033305, close=10622.484552461121, weight=0.00010208117677679423),\n",
       " Stock_with_weight(name='Meyer, Quinn and Mcgee', symbol='Meyer', open=10261, high=10357.78881520759, close=9912.389865368628, weight=9.77377022400565e-05),\n",
       " Stock_with_weight(name='Fisher-Lawrence', symbol='Fishe', open=10202, high=13715.54350372624, close=9987.378318861034, weight=9.717571759604878e-05),\n",
       " Stock_with_weight(name='Anderson, Hall and Berry', symbol='Ander', open=10019, high=12384.798157487674, close=9918.293406320518, weight=9.543261268327903e-05),\n",
       " Stock_with_weight(name='Moses, Robinson and Golden', symbol='Moses', open=10763, high=13354.080746773438, close=12424.327685106386, weight=0.0001025193342958511),\n",
       " Stock_with_weight(name='Williams, Brown and Doyle', symbol='Willi', open=10501, high=14337.110858942626, close=9821.3578162452, weight=0.00010002374146991846),\n",
       " Stock_with_weight(name='Robles, Hughes and Rivera', symbol='Roble', open=10695, high=15671.811031619422, close=9476.404642802903, weight=0.00010187162318072355),\n",
       " Stock_with_weight(name='Welch Ltd', symbol='Welch', open=10281, high=13782.616559657119, close=10779.003402586572, weight=9.792820550921166e-05),\n",
       " Stock_with_weight(name='Shields Group', symbol='Shiel', open=10306, high=10842.328090623783, close=9611.909830468745, weight=9.816633459565562e-05),\n",
       " Stock_with_weight(name='Simpson and Sons', symbol='Simps', open=10830, high=14862.138370400375, close=13524.796089900861, weight=0.0001031575202475209),\n",
       " Stock_with_weight(name='Edwards Ltd', symbol='Edwar', open=10618, high=12964.999014387044, close=10665.43323515536, weight=0.00010113818559447617),\n",
       " Stock_with_weight(name='Reed-Lyons', symbol='Reed-', open=11000, high=13945.915442878362, close=11508.664906079259, weight=0.00010477679803533978),\n",
       " Stock_with_weight(name='Benton Group', symbol='Bento', open=10262, high=12446.330936927005, close=9091.936119286063, weight=9.774722740351426e-05),\n",
       " Stock_with_weight(name='Jones, Wolfe and Perez', symbol='Jones', open=10686, high=13899.310410768823, close=9538.61904932903, weight=0.00010178589670960372),\n",
       " Stock_with_weight(name='Jackson, Shaffer and Miller', symbol='Jacks', open=10198, high=14303.556829241232, close=13275.105759946204, weight=9.713761694221773e-05),\n",
       " Stock_with_weight(name='Bowers PLC', symbol='Bower', open=10313, high=15425.622839937696, close=8943.32978718477, weight=9.823301073985992e-05),\n",
       " Stock_with_weight(name='Jones and Sons', symbol='Jones', open=10997, high=15465.806417162206, close=14798.683700815687, weight=0.00010474822254496651),\n",
       " Stock_with_weight(name='Dennis Group', symbol='Denni', open=10922, high=13364.471880161067, close=11088.233657059433, weight=0.00010403383528563464),\n",
       " Stock_with_weight(name='James Group', symbol='James', open=10618, high=14136.25420138531, close=12232.862798072772, weight=0.00010113818559447617),\n",
       " Stock_with_weight(name='Chapman and Sons', symbol='Chapm', open=10529, high=11346.845679275426, close=8702.102856318474, weight=0.0001002904460467357),\n",
       " Stock_with_weight(name='Smith-Spencer', symbol='Smith', open=10196, high=13047.184576781785, close=10939.191437376245, weight=9.711856661530222e-05),\n",
       " Stock_with_weight(name='Gould LLC', symbol='Gould', open=10784, high=12066.555184959301, close=11442.796541928303, weight=0.00010271936272846402),\n",
       " Stock_with_weight(name='Murphy-Cruz', symbol='Murph', open=10276, high=10923.615306305954, close=9034.227819617807, weight=9.788057969192287e-05),\n",
       " Stock_with_weight(name='Hardin Inc', symbol='Hardi', open=10578, high=15757.27525190061, close=10814.207647251525, weight=0.00010075717905616585),\n",
       " Stock_with_weight(name='Davis, Roberts and Frost', symbol='Davis', open=10580, high=14916.622226024812, close=9655.544350103752, weight=0.00010077622938308136),\n",
       " ...]"
      ]
     },
     "metadata": {},
     "execution_count": 6
    }
   ],
   "source": [
    "sum_open, bse = session9.extend_weight(stock_market)\n",
    "for i in range(100):\n",
    "    print(bse[i])\n"
   ]
  },
  {
   "cell_type": "code",
   "execution_count": 7,
   "metadata": {},
   "outputs": [
    {
     "output_type": "stream",
     "name": "stdout",
     "text": [
      "Market opened at 104985075 and went up by whopping 256.57675478413466 points. 21 din me paisa double - a scheme for rich by Laxmi Chit fund!!!! \n"
     ]
    },
    {
     "output_type": "execute_result",
     "data": {
      "text/plain": [
       "256.57675478413466"
      ]
     },
     "metadata": {},
     "execution_count": 7
    }
   ],
   "source": [
    "session9.market_close(sum_open,bse)"
   ]
  },
  {
   "cell_type": "code",
   "execution_count": null,
   "metadata": {},
   "outputs": [],
   "source": []
  }
 ]
}