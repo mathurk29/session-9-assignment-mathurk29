{
 "metadata": {
  "language_info": {
   "codemirror_mode": {
    "name": "ipython",
    "version": 3
   },
   "file_extension": ".py",
   "mimetype": "text/x-python",
   "name": "python",
   "nbconvert_exporter": "python",
   "pygments_lexer": "ipython3",
   "version": "3.7.9"
  },
  "orig_nbformat": 4,
  "kernelspec": {
   "name": "python3",
   "display_name": "Python 3.7.9 64-bit"
  },
  "interpreter": {
   "hash": "be04d7a754b710caa2304f8401cfaaef8a6f4cefb6d4b30de52dd57a8a2f8a72"
  }
 },
 "nbformat": 4,
 "nbformat_minor": 2,
 "cells": [
  {
   "cell_type": "code",
   "execution_count": 1,
   "metadata": {},
   "outputs": [],
   "source": [
    "import session9\n",
    "from session9 import random_profiles"
   ]
  },
  {
   "cell_type": "code",
   "execution_count": 2,
   "metadata": {},
   "outputs": [
    {
     "output_type": "stream",
     "name": "stdout",
     "text": [
      "result(time_taken=0.0019189000000494616, largest_blood_type='O-', mean_current_location=(Decimal('-0.004013205'), Decimal('0.129628369')), oldest_person_age=115, average_age=56.0)\n"
     ]
    },
    {
     "output_type": "execute_result",
     "data": {
      "text/plain": [
       "0.0019189000000494616"
      ]
     },
     "metadata": {},
     "execution_count": 2
    }
   ],
   "source": [
    "f1 = session9.profile_with_tuples(random_profiles)\n",
    "print(f1)\n",
    "tuples_time = f1.time_taken\n",
    "tuples_time"
   ]
  },
  {
   "cell_type": "code",
   "execution_count": 3,
   "metadata": {},
   "outputs": [
    {
     "output_type": "stream",
     "name": "stdout",
     "text": [
      "{'time_taken': 0.0019954000000410588, 'largest_blood_type': 'O-', 'mean_current_location': (Decimal('-0.004013205'), Decimal('0.129628369')), 'oldest_person_age': 42321, 'aveage_age': 56.0}\n"
     ]
    },
    {
     "output_type": "execute_result",
     "data": {
      "text/plain": [
       "0.0019954000000410588"
      ]
     },
     "metadata": {},
     "execution_count": 3
    }
   ],
   "source": [
    "f2 = session9.profile_without_tuples(random_profiles)\n",
    "print(f2)\n",
    "dict_time =f2['time_taken']\n",
    "dict_time"
   ]
  },
  {
   "cell_type": "code",
   "execution_count": 4,
   "metadata": {},
   "outputs": [
    {
     "output_type": "execute_result",
     "data": {
      "text/plain": [
       "True"
      ]
     },
     "metadata": {},
     "execution_count": 4
    }
   ],
   "source": [
    "tuples_time < dict_time"
   ]
  }
 ]
}